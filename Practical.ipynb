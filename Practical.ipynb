{
 "cells": [
  {
   "cell_type": "markdown",
   "id": "2cc2a776-ceb1-4ad4-84a1-8f4a47425e17",
   "metadata": {},
   "source": [
    "1. Create a 3x3 NumPy array with random integers between 1 and 100. Then, interchange its rows and columns.\n",
    "\n",
    "\n",
    "2. Generate a 1D NumPy array with 10 elements. Reshape it into a 2x5 array, then into a 5x2 array.\n",
    "\n",
    "\n",
    "3. Create a 4x4 NumPy array with random float values. Add a border of zeros around it, resulting in a 6x6 array.\n",
    "\n",
    "\n",
    "4. Using NumPy, create an array of integers from 10 to 60 with a step of 5.\n",
    "\n",
    "\n",
    "5. Create a NumPy array of strings ['python', 'numpy', 'pandas']. Apply different case transformations\n",
    "(uppercase, lowercase, title case, etc.) to each element.\n",
    "\n",
    "\n",
    "6. Generate a NumPy array of words. Insert a space between each character of every word in the array.\n",
    "\n",
    "\n",
    "7. Create two 2D NumPy arrays and perform element-wise addition, subtraction, multiplication, and division.\n",
    "\n",
    "\n",
    "8. Use NumPy to create a 5x5 identity matrix, then extract its diagonal elements.\n",
    "\n",
    "\n",
    "9. Generate a NumPy array of 100 random integers between 0 and 1000. Find and display all prime numbers in\n",
    "this array.\n",
    "\n",
    "\n",
    "10. Create a NumPy array representing daily temperatures for a month. Calculate and display the weekly\n",
    "averages."
   ]
  },
  {
   "cell_type": "code",
   "execution_count": 1,
   "id": "432b0012-75b6-4854-b647-961a5e6c31cd",
   "metadata": {},
   "outputs": [],
   "source": [
    "import numpy as np"
   ]
  },
  {
   "cell_type": "code",
   "execution_count": 7,
   "id": "fdea4ad4-004b-47c4-a61b-97c125d362b2",
   "metadata": {},
   "outputs": [
    {
     "name": "stdout",
     "output_type": "stream",
     "text": [
      "[[43 41  1]\n",
      " [81 79 53]\n",
      " [59 73 77]]\n",
      "[[43 81 59]\n",
      " [41 79 73]\n",
      " [ 1 53 77]]\n"
     ]
    }
   ],
   "source": [
    "#1\n",
    "arr=np.random.randint(1,100,size=(3,3),dtype='int')\n",
    "print(arr)\n",
    "print(arr.T)# Rows and columns interchange."
   ]
  },
  {
   "cell_type": "code",
   "execution_count": 10,
   "id": "09b7c122-8b37-42c2-b998-a2a48a3aa223",
   "metadata": {},
   "outputs": [
    {
     "name": "stdout",
     "output_type": "stream",
     "text": [
      "[0 1 2 3 4 5 6 7 8 9]\n",
      "[[0 1 2 3 4]\n",
      " [5 6 7 8 9]]\n",
      "[[0 1]\n",
      " [2 3]\n",
      " [4 5]\n",
      " [6 7]\n",
      " [8 9]]\n"
     ]
    }
   ],
   "source": [
    "#2\n",
    "arr=np.arange(10)\n",
    "print(arr)\n",
    "print(arr.reshape((2,5)))\n",
    "print(arr.reshape((5,2)))"
   ]
  },
  {
   "cell_type": "code",
   "execution_count": 21,
   "id": "4e92177e-4352-4cc5-8791-61495e12fef5",
   "metadata": {},
   "outputs": [
    {
     "data": {
      "text/plain": [
       "array([[0.        , 0.        , 0.        , 0.        , 0.        ,\n",
       "        0.        ],\n",
       "       [0.        , 0.12847172, 0.29668358, 0.77148419, 0.01075094,\n",
       "        0.        ],\n",
       "       [0.        , 0.30630786, 0.07271655, 0.57842906, 0.17956283,\n",
       "        0.        ],\n",
       "       [0.        , 0.84203046, 0.7841867 , 0.57834436, 0.96669721,\n",
       "        0.        ],\n",
       "       [0.        , 0.21222559, 0.51356163, 0.64847479, 0.84052832,\n",
       "        0.        ],\n",
       "       [0.        , 0.        , 0.        , 0.        , 0.        ,\n",
       "        0.        ]])"
      ]
     },
     "execution_count": 21,
     "metadata": {},
     "output_type": "execute_result"
    }
   ],
   "source": [
    "#3\n",
    "arr=np.random.rand(4,4)\n",
    "arr\n",
    "# To apply border we use pad function. \n",
    "np.pad(arr,pad_width=1,constant_values=0)"
   ]
  },
  {
   "cell_type": "code",
   "execution_count": 23,
   "id": "9a928969-d2ac-493d-98a7-724042cc11bf",
   "metadata": {},
   "outputs": [
    {
     "data": {
      "text/plain": [
       "array([10, 15, 20, 25, 30, 35, 40, 45, 50, 55])"
      ]
     },
     "execution_count": 23,
     "metadata": {},
     "output_type": "execute_result"
    }
   ],
   "source": [
    "#4.\n",
    "arr=np.arange(10,60,5)\n",
    "arr\n",
    "arr.reshape(())"
   ]
  },
  {
   "cell_type": "code",
   "execution_count": 5,
   "id": "01328420-808d-4cd0-bc47-c8431a87e2d4",
   "metadata": {},
   "outputs": [
    {
     "name": "stdout",
     "output_type": "stream",
     "text": [
      "['PYTHON' 'NUMPY' 'PANDAS']\n",
      "['python' 'numpy' 'pandas']\n",
      "['Python' 'Numpy' 'Pandas']\n"
     ]
    }
   ],
   "source": [
    "#5\n",
    "arr=np.array(['python', 'numpy', 'pandas'])\n",
    "print(np.char.upper(arr))\n",
    "print(np.char.lower(arr))\n",
    "print(np.char.title(arr))"
   ]
  },
  {
   "cell_type": "code",
   "execution_count": 6,
   "id": "178e383d-5434-48b2-a6f0-99fc131e861e",
   "metadata": {},
   "outputs": [
    {
     "data": {
      "text/plain": [
       "array(['p y t h o n', 'n u m p y', 'p a n d a s'], dtype='<U11')"
      ]
     },
     "execution_count": 6,
     "metadata": {},
     "output_type": "execute_result"
    }
   ],
   "source": [
    "#6\n",
    "arr_strings=arr\n",
    "np.char.join(' ',arr_strings)"
   ]
  },
  {
   "cell_type": "code",
   "execution_count": 10,
   "id": "275ea1c3-5e35-4581-bf77-0411bd727c69",
   "metadata": {},
   "outputs": [
    {
     "name": "stdout",
     "output_type": "stream",
     "text": [
      "[[6 8]\n",
      " [7 9]]\n",
      "[[-4 -4]\n",
      " [-1 -1]]\n",
      "[[ 5 12]\n",
      " [12 20]]\n",
      "[[0.2        0.33333333]\n",
      " [0.75       0.8       ]]\n"
     ]
    }
   ],
   "source": [
    "#7\n",
    "arr_1=np.array([[1,2],[3,4]])\n",
    "arr_2=np.array([[5,6],[4,5]])\n",
    "add=np.add(arr_1,arr_2)\n",
    "subtract=np.subtract(arr_1,arr_2)\n",
    "multiply=np.multiply(arr_1,arr_2)\n",
    "divide=np.divide(arr_1,arr_2)\n",
    "print(add)\n",
    "print(subtract)\n",
    "print(multiply)\n",
    "print(divide)"
   ]
  },
  {
   "cell_type": "code",
   "execution_count": 13,
   "id": "ceb277de-3d1e-4391-a05e-220d5b5e6a49",
   "metadata": {},
   "outputs": [
    {
     "name": "stdout",
     "output_type": "stream",
     "text": [
      "[[1. 0. 0. 0. 0.]\n",
      " [0. 1. 0. 0. 0.]\n",
      " [0. 0. 1. 0. 0.]\n",
      " [0. 0. 0. 1. 0.]\n",
      " [0. 0. 0. 0. 1.]]\n",
      "[1. 1. 1. 1. 1.]\n"
     ]
    }
   ],
   "source": [
    "#8\n",
    "identity = np.eye(5)\n",
    "print(identity)\n",
    "print(np.diagonal(identity))"
   ]
  },
  {
   "cell_type": "code",
   "execution_count": 32,
   "id": "a6f72b70-7e8d-4e7d-b6a2-537dd315b96c",
   "metadata": {},
   "outputs": [
    {
     "data": {
      "text/plain": [
       "[157,\n",
       " 491,\n",
       " 911,\n",
       " 647,\n",
       " 71,\n",
       " 829,\n",
       " 521,\n",
       " 43,\n",
       " 991,\n",
       " 59,\n",
       " 101,\n",
       " 211,\n",
       " 751,\n",
       " 283,\n",
       " 59,\n",
       " 727,\n",
       " 673,\n",
       " 73,\n",
       " 599,\n",
       " 421,\n",
       " 953]"
      ]
     },
     "execution_count": 32,
     "metadata": {},
     "output_type": "execute_result"
    }
   ],
   "source": [
    "#9\n",
    "arr_3=np.random.randint(0,1001,100)\n",
    "arr_3\n",
    "\n",
    "\n",
    "def is_prime(a):\n",
    "\n",
    "    if a<2:\n",
    "        return True\n",
    "    if a>2:\n",
    "        for i in range(2,a):\n",
    "            if a%i==0:\n",
    "                return True\n",
    "        return False\n",
    "                \n",
    "                \n",
    "\n",
    "prime_numbers=[]\n",
    "\n",
    "for i in range(0,len(arr_3)):\n",
    "    if is_prime(arr_3[i])==True:\n",
    "        continue\n",
    "    if is_prime(arr_3[i])==False:\n",
    "        prime_numbers.append(arr_3[i])\n",
    "        \n",
    "prime_numbers"
   ]
  },
  {
   "cell_type": "code",
   "execution_count": 33,
   "id": "5d7c42df-f441-4d98-a597-dc8e8c284471",
   "metadata": {},
   "outputs": [
    {
     "data": {
      "text/plain": [
       "array([29, 35, 39, 24, 25, 39, 26, 37, 32, 21, 36, 30, 36, 34, 39, 21, 29,\n",
       "       27, 34, 25, 24, 33, 34, 20, 24, 33, 22, 24])"
      ]
     },
     "execution_count": 33,
     "metadata": {},
     "output_type": "execute_result"
    }
   ],
   "source": [
    "#10\n",
    "daily_temp=np.random.randint(20,40,size=28)\n",
    "weekly_average=np.reshape(daily_temp,(4,7)).mea"
   ]
  },
  {
   "cell_type": "code",
   "execution_count": null,
   "id": "af721683-3314-47d4-aa06-5a2deed0ec31",
   "metadata": {},
   "outputs": [],
   "source": []
  }
 ],
 "metadata": {
  "kernelspec": {
   "display_name": "Python 3 (ipykernel)",
   "language": "python",
   "name": "python3"
  },
  "language_info": {
   "codemirror_mode": {
    "name": "ipython",
    "version": 3
   },
   "file_extension": ".py",
   "mimetype": "text/x-python",
   "name": "python",
   "nbconvert_exporter": "python",
   "pygments_lexer": "ipython3",
   "version": "3.10.8"
  }
 },
 "nbformat": 4,
 "nbformat_minor": 5
}
